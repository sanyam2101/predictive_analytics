{
  "cells": [
    {
      "cell_type": "markdown",
      "metadata": {
        "colab_type": "text",
        "id": "view-in-github"
      },
      "source": [
        "<a href=\"https://colab.research.google.com/github/khushipr/Parameter_Optimization_of_SVM/blob/main/Parameter_Optimization.ipynb\" target=\"_parent\"><img src=\"https://colab.research.google.com/assets/colab-badge.svg\" alt=\"Open In Colab\"/></a>"
      ]
    },
    {
      "cell_type": "markdown",
      "metadata": {
        "id": "c1XfOlKiULn_"
      },
      "source": [
        "###Importing Necessary Libraries"
      ]
    },
    {
      "cell_type": "code",
      "execution_count": 28,
      "metadata": {
        "id": "B_2gz_a3pZa0"
      },
      "outputs": [],
      "source": [
        "import pandas as pd\n",
        "import numpy as np\n",
        "import matplotlib.pyplot as plt\n",
        "import seaborn as sns\n",
        "%matplotlib inline\n",
        "from sklearn.model_selection import train_test_split, GridSearchCV\n",
        "from sklearn.svm import SVC\n",
        "from sklearn.metrics import accuracy_score\n",
        "from sklearn.preprocessing import StandardScaler\n",
        "from sklearn.model_selection import learning_curve\n",
        "import warnings\n",
        "warnings.filterwarnings('ignore')"
      ]
    },
    {
      "cell_type": "markdown",
      "metadata": {
        "id": "HKT0uK58UP2f"
      },
      "source": [
        "###Uploading the Dataset from UCI Library"
      ]
    },
    {
      "cell_type": "code",
      "execution_count": 29,
      "metadata": {
        "colab": {
          "base_uri": "https://localhost:8080/",
          "height": 73
        },
        "id": "xg75U3QTrsyk",
        "outputId": "72d15017-8f18-4a44-cd26-716b41ff28ab"
      },
      "outputs": [],
      "source": [
        "uploaded = pd.read_csv('https://archive.ics.uci.edu/ml/machine-learning-databases/letter-recognition/letter-recognition.data')"
      ]
    },
    {
      "cell_type": "code",
      "execution_count": 30,
      "metadata": {
        "colab": {
          "base_uri": "https://localhost:8080/",
          "height": 270
        },
        "id": "hOxdHOSbpbeo",
        "outputId": "4a333d0a-0554-4691-a238-684509582462"
      },
      "outputs": [
        {
          "data": {
            "text/html": [
              "<div>\n",
              "<style scoped>\n",
              "    .dataframe tbody tr th:only-of-type {\n",
              "        vertical-align: middle;\n",
              "    }\n",
              "\n",
              "    .dataframe tbody tr th {\n",
              "        vertical-align: top;\n",
              "    }\n",
              "\n",
              "    .dataframe thead th {\n",
              "        text-align: right;\n",
              "    }\n",
              "</style>\n",
              "<table border=\"1\" class=\"dataframe\">\n",
              "  <thead>\n",
              "    <tr style=\"text-align: right;\">\n",
              "      <th></th>\n",
              "      <th>target</th>\n",
              "      <th>A</th>\n",
              "      <th>B</th>\n",
              "      <th>C</th>\n",
              "      <th>D</th>\n",
              "      <th>E</th>\n",
              "      <th>F</th>\n",
              "      <th>G</th>\n",
              "      <th>H</th>\n",
              "      <th>I</th>\n",
              "      <th>J</th>\n",
              "      <th>K</th>\n",
              "      <th>L</th>\n",
              "      <th>M</th>\n",
              "      <th>N</th>\n",
              "      <th>O</th>\n",
              "      <th>P</th>\n",
              "    </tr>\n",
              "  </thead>\n",
              "  <tbody>\n",
              "    <tr>\n",
              "      <th>0</th>\n",
              "      <td>I</td>\n",
              "      <td>5</td>\n",
              "      <td>12</td>\n",
              "      <td>3</td>\n",
              "      <td>7</td>\n",
              "      <td>2</td>\n",
              "      <td>10</td>\n",
              "      <td>5</td>\n",
              "      <td>5</td>\n",
              "      <td>4</td>\n",
              "      <td>13</td>\n",
              "      <td>3</td>\n",
              "      <td>9</td>\n",
              "      <td>2</td>\n",
              "      <td>8</td>\n",
              "      <td>4</td>\n",
              "      <td>10</td>\n",
              "    </tr>\n",
              "    <tr>\n",
              "      <th>1</th>\n",
              "      <td>D</td>\n",
              "      <td>4</td>\n",
              "      <td>11</td>\n",
              "      <td>6</td>\n",
              "      <td>8</td>\n",
              "      <td>6</td>\n",
              "      <td>10</td>\n",
              "      <td>6</td>\n",
              "      <td>2</td>\n",
              "      <td>6</td>\n",
              "      <td>10</td>\n",
              "      <td>3</td>\n",
              "      <td>7</td>\n",
              "      <td>3</td>\n",
              "      <td>7</td>\n",
              "      <td>3</td>\n",
              "      <td>9</td>\n",
              "    </tr>\n",
              "    <tr>\n",
              "      <th>2</th>\n",
              "      <td>N</td>\n",
              "      <td>7</td>\n",
              "      <td>11</td>\n",
              "      <td>6</td>\n",
              "      <td>6</td>\n",
              "      <td>3</td>\n",
              "      <td>5</td>\n",
              "      <td>9</td>\n",
              "      <td>4</td>\n",
              "      <td>6</td>\n",
              "      <td>4</td>\n",
              "      <td>4</td>\n",
              "      <td>10</td>\n",
              "      <td>6</td>\n",
              "      <td>10</td>\n",
              "      <td>2</td>\n",
              "      <td>8</td>\n",
              "    </tr>\n",
              "    <tr>\n",
              "      <th>3</th>\n",
              "      <td>G</td>\n",
              "      <td>2</td>\n",
              "      <td>1</td>\n",
              "      <td>3</td>\n",
              "      <td>1</td>\n",
              "      <td>1</td>\n",
              "      <td>8</td>\n",
              "      <td>6</td>\n",
              "      <td>6</td>\n",
              "      <td>6</td>\n",
              "      <td>6</td>\n",
              "      <td>5</td>\n",
              "      <td>9</td>\n",
              "      <td>1</td>\n",
              "      <td>7</td>\n",
              "      <td>5</td>\n",
              "      <td>10</td>\n",
              "    </tr>\n",
              "    <tr>\n",
              "      <th>4</th>\n",
              "      <td>S</td>\n",
              "      <td>4</td>\n",
              "      <td>11</td>\n",
              "      <td>5</td>\n",
              "      <td>8</td>\n",
              "      <td>3</td>\n",
              "      <td>8</td>\n",
              "      <td>8</td>\n",
              "      <td>6</td>\n",
              "      <td>9</td>\n",
              "      <td>5</td>\n",
              "      <td>6</td>\n",
              "      <td>6</td>\n",
              "      <td>0</td>\n",
              "      <td>8</td>\n",
              "      <td>9</td>\n",
              "      <td>7</td>\n",
              "    </tr>\n",
              "  </tbody>\n",
              "</table>\n",
              "</div>"
            ],
            "text/plain": [
              "  target  A   B  C  D  E   F  G  H  I   J  K   L  M   N  O   P\n",
              "0      I  5  12  3  7  2  10  5  5  4  13  3   9  2   8  4  10\n",
              "1      D  4  11  6  8  6  10  6  2  6  10  3   7  3   7  3   9\n",
              "2      N  7  11  6  6  3   5  9  4  6   4  4  10  6  10  2   8\n",
              "3      G  2   1  3  1  1   8  6  6  6   6  5   9  1   7  5  10\n",
              "4      S  4  11  5  8  3   8  8  6  9   5  6   6  0   8  9   7"
            ]
          },
          "execution_count": 30,
          "metadata": {},
          "output_type": "execute_result"
        }
      ],
      "source": [
        "dataset = uploaded\n",
        "dataset.columns = ['target', 'A', 'B', 'C', 'D', 'E', 'F', 'G', 'H', 'I', 'J', 'K', 'L', 'M', 'N', 'O', 'P']\n",
        "dataset.head()"
      ]
    },
    {
      "cell_type": "markdown",
      "metadata": {
        "id": "W4eBOX7pUVbl"
      },
      "source": [
        "###Pre-Processing of Dataset"
      ]
    },
    {
      "cell_type": "code",
      "execution_count": 31,
      "metadata": {
        "colab": {
          "base_uri": "https://localhost:8080/"
        },
        "id": "ZEfCiD6Ar93s",
        "outputId": "11c4675f-be35-4b9c-ecc8-d359800c78a0"
      },
      "outputs": [
        {
          "data": {
            "text/plain": [
              "(19999, 17)"
            ]
          },
          "execution_count": 31,
          "metadata": {},
          "output_type": "execute_result"
        }
      ],
      "source": [
        "dataset.shape"
      ]
    },
    {
      "cell_type": "code",
      "execution_count": 32,
      "metadata": {
        "colab": {
          "base_uri": "https://localhost:8080/"
        },
        "id": "8BHQbqjjIFrg",
        "outputId": "a0ab3f06-3e32-4b3a-da80-ff5b8a8815fb"
      },
      "outputs": [
        {
          "data": {
            "text/plain": [
              "target    0\n",
              "A         0\n",
              "B         0\n",
              "C         0\n",
              "D         0\n",
              "E         0\n",
              "F         0\n",
              "G         0\n",
              "H         0\n",
              "I         0\n",
              "J         0\n",
              "K         0\n",
              "L         0\n",
              "M         0\n",
              "N         0\n",
              "O         0\n",
              "P         0\n",
              "dtype: int64"
            ]
          },
          "execution_count": 32,
          "metadata": {},
          "output_type": "execute_result"
        }
      ],
      "source": [
        "dataset.isnull().sum()"
      ]
    },
    {
      "cell_type": "code",
      "execution_count": 33,
      "metadata": {
        "id": "rs9oyhLFtsB_"
      },
      "outputs": [],
      "source": [
        "# dataset = dataset.drop(['Date','Time'],axis=1)"
      ]
    },
    {
      "cell_type": "code",
      "execution_count": 34,
      "metadata": {
        "colab": {
          "base_uri": "https://localhost:8080/",
          "height": 466
        },
        "id": "daWE15YjtWDF",
        "outputId": "32dc1ae3-32f1-41cc-8cea-6b8e568f999d"
      },
      "outputs": [
        {
          "data": {
            "text/plain": [
              "<AxesSubplot: xlabel='target', ylabel='count'>"
            ]
          },
          "execution_count": 34,
          "metadata": {},
          "output_type": "execute_result"
        },
        {
          "data": {
            "image/png": "[encoded data removed]",
            "text/plain": [
              "<Figure size 640x480 with 1 Axes>"
            ]
          },
          "metadata": {},
          "output_type": "display_data"
        }
      ],
      "source": [
        "sns.countplot(x = 'target', data=dataset)"
      ]
    },
    {
      "cell_type": "code",
      "execution_count": null,
      "metadata": {},
      "outputs": [],
      "source": []
    },
    {
      "cell_type": "code",
      "execution_count": 35,
      "metadata": {
        "id": "DJrr7u6Xwbm-"
      },
      "outputs": [],
      "source": [
        "X = dataset.iloc[:,1:]\n",
        "y = dataset['target']"
      ]
    },
    {
      "cell_type": "code",
      "execution_count": 36,
      "metadata": {
        "colab": {
          "base_uri": "https://localhost:8080/"
        },
        "id": "C-KMtpckIYKr",
        "outputId": "61099632-daf8-4b06-f322-92ca23fde3b3"
      },
      "outputs": [
        {
          "data": {
            "text/plain": [
              "array([[ 0.5103336 ,  1.50233794, -1.05333222, ..., -0.21908737,\n",
              "         0.12001271,  1.35941359],\n",
              "       [-0.01236238,  1.19972472,  0.43585819, ..., -0.86561656,\n",
              "        -0.26955622,  0.74116389],\n",
              "       [ 1.55572554,  1.19972472,  0.43585819, ...,  1.07397101,\n",
              "        -0.65912516,  0.12291419],\n",
              "       ...,\n",
              "       [ 1.03302957,  0.59449827,  0.43585819, ...,  2.36702938,\n",
              "        -0.65912516, -2.35008462],\n",
              "       [-1.05775432, -1.22118107, -0.55693542, ...,  0.42744182,\n",
              "         0.50958164,  0.12291419],\n",
              "       [-0.01236238,  0.59449827,  0.43585819, ..., -0.86561656,\n",
              "        -0.65912516,  0.12291419]])"
            ]
          },
          "execution_count": 36,
          "metadata": {},
          "output_type": "execute_result"
        }
      ],
      "source": [
        "ss = StandardScaler()\n",
        "ss.fit_transform(X)"
      ]
    },
    {
      "cell_type": "markdown",
      "metadata": {
        "id": "s2VfCpWjUafO"
      },
      "source": [
        "###Creation of 10 samples with 70-30 ratio of Training and Testing Set"
      ]
    },
    {
      "cell_type": "code",
      "execution_count": 37,
      "metadata": {
        "id": "H7MnfxqttiXl"
      },
      "outputs": [],
      "source": [
        "samples = []\n",
        "for i in range(10):\n",
        "    X_train, X_test, y_train, y_test = train_test_split(X, y, test_size=0.3, random_state=i)\n",
        "    samples.append((X_train, X_test, y_train, y_test))"
      ]
    },
    {
      "cell_type": "code",
      "execution_count": 38,
      "metadata": {
        "colab": {
          "base_uri": "https://localhost:8080/"
        },
        "id": "gPp8uFHkMC2D",
        "outputId": "3666ab5a-61dd-43da-c996-0448d88b6ef1"
      },
      "outputs": [
        {
          "data": {
            "text/plain": [
              "[(       A   B  C  D  E   F  G  H  I   J   K   L  M   N  O   P\n",
              "  9397   3   4  4  6  2   7  7  9  7   7   6   8  3   8  4   8\n",
              "  8996   6  10  6  5  3  12  3  6  2  12   2  10  4   3  3  10\n",
              "  18239  1   0  2  1  0   2  1  6  5   0   2   4  0   8  0   8\n",
              "  15524  1   7  0  5  1   7  7  5  3   7   6   8  0   8  0   8\n",
              "  10297  9  13  8  8  4   8  3  4  3   8   4   5  4   7  5   9\n",
              "  ...   ..  .. .. .. ..  .. .. .. ..  ..  ..  .. ..  .. ..  ..\n",
              "  13123  3   4  4  3  2   6  7  5  5   9   7  10  2   9  4   9\n",
              "  19648  9  12  9  6  4   7  8  5  4   9  10   9  7  10  5   9\n",
              "  9845   7  10  7  8  5   6  6  7  7  10   7  11  2   9  5   9\n",
              "  10799  5   5  8  7  4  11  8  5  2   6   9   8  8   9  0   8\n",
              "  2732   4   7  6  5  4   9  6  2  8  11   5   9  3   8  5  10\n",
              "  \n",
              "  [13999 rows x 16 columns],\n",
              "         A   B  C  D   E   F   G  H  I   J   K   L   M   N   O   P\n",
              "  11003  5   9  7  7   3   5  13  4  5  13   7   3   1  10   2   6\n",
              "  4981   5   9  5  7   4   3  11  2  3   9  11   8   3  12   1   7\n",
              "  16642  4   8  4  5   2   3   8  8  2   7   5  11   4   8   3  10\n",
              "  8595   5   8  7  6   5   9   8  6  4   7   5   8   3   8  10   7\n",
              "  19161  5  10  6  8   4   6   8  6  7   6  10   9   3   9   1   7\n",
              "  ...   ..  .. .. ..  ..  ..  .. .. ..  ..  ..  ..  ..  ..  ..  ..\n",
              "  7607   2   2  4  3   1   6   2  2  2   5   2   8   2   6   2   6\n",
              "  19240  6   9  9  7  11   6   5  4  2   6   4   9  14   6   4   6\n",
              "  3452   5   9  6  6   3   5   9  7  8   5   8  14   2   7   5   8\n",
              "  7366   4   8  6  6   4  10   5  3  6  10   2   7   3   8   3  10\n",
              "  8225   3   5  5  8   7  10  10  4  2   4   8   9   4  13   6   8\n",
              "  \n",
              "  [6000 rows x 16 columns],\n",
              "  9397     O\n",
              "  8996     A\n",
              "  18239    L\n",
              "  15524    I\n",
              "  10297    G\n",
              "          ..\n",
              "  13123    G\n",
              "  19648    H\n",
              "  9845     G\n",
              "  10799    W\n",
              "  2732     E\n",
              "  Name: target, Length: 13999, dtype: object,\n",
              "  11003    F\n",
              "  4981     V\n",
              "  16642    K\n",
              "  8595     Z\n",
              "  19161    U\n",
              "          ..\n",
              "  7607     A\n",
              "  19240    M\n",
              "  3452     C\n",
              "  7366     H\n",
              "  8225     Y\n",
              "  Name: target, Length: 6000, dtype: object),\n",
              " (       A   B  C  D  E   F   G  H  I   J   K  L  M   N  O   P\n",
              "  3616   3   4  5  3  2   9   7  2  8  10   3  7  2   8  3   9\n",
              "  9746   6  10  8  8  9   7   7  6  2   7   8  8  6   8  4   8\n",
              "  17803  8  12  9  7  5   6   8  2  8  11   7  8  5   8  4   6\n",
              "  4888   7  14  6  8  4   8   9  3  7  14   4  5  2   8  5   9\n",
              "  638    8  11  7  8  5   4  11  1  3   8  10  8  5  12  1   7\n",
              "  ...   ..  .. .. .. ..  ..  .. .. ..  ..  .. .. ..  .. ..  ..\n",
              "  10955  3   6  3  4  3   6   8  9  6   7   6  7  2   8  8  10\n",
              "  17289  3   8  5  6  4  10   6  3  6  10   3  5  3   8  3   8\n",
              "  5192   2   6  3  4  1   7  12  0  5   7  10  8  0   8  0   8\n",
              "  12172  9  10  7  6  4   7   8  5  5   9   4  9  7   5  6  11\n",
              "  235    3   4  6  3  2   7   7  1  9  10   6  8  2   8  3   7\n",
              "  \n",
              "  [13999 rows x 16 columns],\n",
              "         A   B  C  D  E  F   G  H   I   J  K   L  M   N  O  P\n",
              "  11455  4   6  4  4  3  5   7  9   7   7  6   6  2   8  3  8\n",
              "  8110   5  10  7  7  8  7   8  3   5   7  6   7  7   8  8  2\n",
              "  16829  2   4  4  3  3  8   8  3   5  10  4   7  3   6  3  9\n",
              "  6398   4  10  7  7  4  7   8  4   9   6  5   5  4  10  8  6\n",
              "  1544   2   0  2  1  1  7   7  3  11   8  6   8  0   8  7  8\n",
              "  ...   ..  .. .. .. .. ..  .. ..  ..  .. ..  .. ..  .. .. ..\n",
              "  14162  5  11  8  8  7  7   7  3   8   5  7  10  3   8  6  8\n",
              "  14475  4  10  5  7  2  7   7  5   4   7  6   8  3   8  4  8\n",
              "  3950   1   3  2  2  1  8   6  3   4  14  6  10  1   7  0  7\n",
              "  16233  4   3  5  2  2  4  11  3   2  10  9   7  6  11  1  7\n",
              "  13715  3   3  5  2  2  5   9  2   7  10  9   8  2   8  3  6\n",
              "  \n",
              "  [6000 rows x 16 columns],\n",
              "  3616     X\n",
              "  9746     W\n",
              "  17803    X\n",
              "  4888     I\n",
              "  638      V\n",
              "          ..\n",
              "  10955    B\n",
              "  17289    D\n",
              "  5192     T\n",
              "  12172    R\n",
              "  235      X\n",
              "  Name: target, Length: 13999, dtype: object,\n",
              "  11455    D\n",
              "  8110     N\n",
              "  16829    R\n",
              "  6398     X\n",
              "  1544     Z\n",
              "          ..\n",
              "  14162    X\n",
              "  14475    X\n",
              "  3950     J\n",
              "  16233    W\n",
              "  13715    X\n",
              "  Name: target, Length: 6000, dtype: object),\n",
              " (       A   B  C  D  E   F   G  H  I   J   K   L  M   N  O   P\n",
              "  9048   3   3  4  2  2   8  12  3  6   6  11   8  2  11  1   7\n",
              "  7767   4   9  6  7  7   9   6  5  2   7   6  10  8   8  4  11\n",
              "  3021   3   5  4  3  2   9  12  3  7   5  11   9  1  11  1   8\n",
              "  10498  5   8  8  6  4   9   7  1  8  10   4   7  3   9  4   9\n",
              "  5703   4   7  6  5  3   4   9  2  7  10  11   9  3   9  3   5\n",
              "  ...   ..  .. .. .. ..  ..  .. .. ..  ..  ..  .. ..  .. ..  ..\n",
              "  1099   5   9  7  6  5   7   8  2  9  12   6   8  1   9  6   8\n",
              "  18898  4   8  5  6  5  10   7  3  6  10   4   6  2   8  4  10\n",
              "  11798  5  10  7  7  8   8   5  8  4   8   6   8  3   9  8   3\n",
              "  6637   8  13  7  8  3   7   8  3  9  13   5   6  2   9  5   5\n",
              "  2575   2   3  4  4  2   8   3  1  2   7   2   8  2   6  2   7\n",
              "  \n",
              "  [13999 rows x 16 columns],\n",
              "         A   B  C  D   E  F   G  H  I   J   K   L   M   N  O   P\n",
              "  836    4   9  5  7   5  9   7  3  5   9   3   8   3   6  3  11\n",
              "  1849   5  10  8  8  13  9   7  5  2   7   7   8  10  10  3   5\n",
              "  7278   2   3  3  2   2  5   7  4  7   7   6  11   3   8  4   9\n",
              "  527    3   3  4  2   1  4  12  4  3  11  11   6   2  11  1   8\n",
              "  10432  4   9  5  7   4  5  11  2  7  11   9   5   1  10  3   5\n",
              "  ...   ..  .. .. ..  .. ..  .. .. ..  ..  ..  ..  ..  .. ..  ..\n",
              "  11796  4  10  6  7   7  7   7  3  6   7   7  10   4   9  8   8\n",
              "  3277   2   5  4  4   2  6   4  1  8   8   2  10   0   7  2   8\n",
              "  11026  6   9  6  6   4  6   7  6  7  10   8   9   3   8  5   9\n",
              "  14718  2   1  3  2   2  6   7  4  5   6   5   7   5   7  3   8\n",
              "  2352   1   1  1  3   1  7   7  1  6   7   6   8   0   8  2   8\n",
              "  \n",
              "  [6000 rows x 16 columns],\n",
              "  9048     T\n",
              "  7767     G\n",
              "  3021     T\n",
              "  10498    X\n",
              "  5703     X\n",
              "          ..\n",
              "  1099     Z\n",
              "  18898    B\n",
              "  11798    A\n",
              "  6637     T\n",
              "  2575     A\n",
              "  Name: target, Length: 13999, dtype: object,\n",
              "  836      R\n",
              "  1849     W\n",
              "  7278     K\n",
              "  527      V\n",
              "  10432    F\n",
              "          ..\n",
              "  11796    E\n",
              "  3277     L\n",
              "  11026    G\n",
              "  14718    R\n",
              "  2352     I\n",
              "  Name: target, Length: 6000, dtype: object),\n",
              " (       A   B  C  D  E   F   G  H  I   J   K   L  M  N  O   P\n",
              "  4211   4   8  4  6  3   2  12  5  6  11  10   8  0  8  2   7\n",
              "  11963  3   7  5  5  4   9  11  6  4   6   5   7  2  8  6   4\n",
              "  7295   6  12  6  6  4  10   3  4  4  11   2   8  4  6  4  10\n",
              "  3850   5   9  7  7  4   8   7  3  5  10   5   6  6  8  1   7\n",
              "  16976  5  11  5  6  4   8   6  3  5   9   5   7  5  9  5   8\n",
              "  ...   ..  .. .. .. ..  ..  .. .. ..  ..  ..  .. .. .. ..  ..\n",
              "  6400   4   9  6  7  7   8   7  6  6   7   6   6  2  8  6  10\n",
              "  15288  4   6  4  4  3   6   6  8  7   6   6   7  2  8  9  10\n",
              "  11513  9  14  9  8  7   5   8  2  6   8   4  10  7  5  7   5\n",
              "  1688   4   6  4  4  4   6   9  7  4   9   8   8  3  8  3   7\n",
              "  5994   5   8  7  6  6   8   5  7  4   6   7   7  4  6  7   8\n",
              "  \n",
              "  [13999 rows x 16 columns],\n",
              "         A   B  C   D   E  F   G   H  I   J   K   L  M   N  O   P\n",
              "  1406   3   8  5   6   1  6   9   3  1   8  13   8  2  11  0   8\n",
              "  2053   6   8  8  11  12  8   8   4  2   7   8   9  4  12  9   8\n",
              "  12217  5  11  5   8   5  8   6  13  4   7  12   8  3   9  0   8\n",
              "  9794   3   8  4   6   4  7   7  12  1   6   6   8  5   8  0   8\n",
              "  2802   3   3  5   5   2  8   6   7  8   6   5  10  1   8  6  11\n",
              "  ...   ..  .. ..  ..  .. ..  ..  .. ..  ..  ..  .. ..  .. ..  ..\n",
              "  18047  4   3  4   4   1  7   5  13  5   7  14   8  3   9  0   8\n",
              "  7001   4   9  6   7   6  9   6   4  5   9   5   7  2   8  5   9\n",
              "  10693  1   0  1   0   0  8   7   4  6   5   6   7  0   8  7   8\n",
              "  13489  7  13  6   8   4  9   5   5  5  11   4   9  6   7  7  11\n",
              "  5109   5   9  8   6   6  7  10   2  3   7   9   8  8  11  1   8\n",
              "  \n",
              "  [6000 rows x 16 columns],\n",
              "  4211     F\n",
              "  11963    Z\n",
              "  7295     D\n",
              "  3850     N\n",
              "  16976    D\n",
              "          ..\n",
              "  6400     B\n",
              "  15288    B\n",
              "  11513    R\n",
              "  1688     O\n",
              "  5994     Q\n",
              "  Name: target, Length: 13999, dtype: object,\n",
              "  1406     Y\n",
              "  2053     Y\n",
              "  12217    U\n",
              "  9794     N\n",
              "  2802     G\n",
              "          ..\n",
              "  18047    U\n",
              "  7001     B\n",
              "  10693    S\n",
              "  13489    B\n",
              "  5109     W\n",
              "  Name: target, Length: 6000, dtype: object),\n",
              " (        A   B  C  D  E   F   G  H  I   J   K   L  M   N  O   P\n",
              "  12267   3   7  4  5  3   9   8  5  8   5   5   5  0   7  8   8\n",
              "  4148   10  15  9  8  5   7   6  5  6   9   4   5  5   8  6   9\n",
              "  1906    2   5  3  4  2   6   8  7  7   8   8  13  1   9  4  10\n",
              "  17688   2   6  4  4  2   8  12  2  2   5  10   9  2  11  0   9\n",
              "  4033    3   7  4  5  3   9   4  3  1   8   1   8  2   6  1   8\n",
              "  ...    ..  .. .. .. ..  ..  .. .. ..  ..  ..  .. ..  .. ..  ..\n",
              "  16840   5   6  6  6  5   6   6  5  7   7   6   8  4   6  6   5\n",
              "  11863   7  13  7  7  4  10   4  3  6  10   2   7  5   7  4  12\n",
              "  17093   6  10  9  8  9   6   8  3  5   8   7   7  9   8  8   4\n",
              "  8366    7  10  9  8  5   6   8  2  8   7   6  10  0   7  4   8\n",
              "  17530   3   4  4  3  2   4   7  5  7  10   8  13  1   9  3   8\n",
              "  \n",
              "  [13999 rows x 16 columns],\n",
              "         A   B  C  D  E  F  G  H  I   J  K   L  M  N  O   P\n",
              "  11601  2   1  3  2  2  8  7  7  5   7  6   8  2  8  3   8\n",
              "  16890  1   0  2  0  0  7  6  9  0   7  8   8  5  6  0   8\n",
              "  14282  3   1  4  3  3  8  8  5  6   7  5   5  2  8  6   8\n",
              "  1635   6  10  9  8  5  8  8  3  5  10  5   6  6  8  2   7\n",
              "  7694   3   3  4  4  3  6  8  8  7   7  5   7  2  8  8   9\n",
              "  ...   ..  .. .. .. .. .. .. .. ..  .. ..  .. .. .. ..  ..\n",
              "  9198   4  10  6  8  6  9  8  4  4   9  3   7  4  8  7   5\n",
              "  1170   1   4  2  3  1  7  7  1  8  13  6   8  0  8  1   8\n",
              "  5276   3   7  5  5  5  8  7  5  6   6  6   6  2  8  5   9\n",
              "  6536   6  11  6  8  5  5  6  6  5  10  8  11  2  9  4  10\n",
              "  19922  4  10  6  8  5  8  8  6  5   7  6   6  6  9  2   6\n",
              "  \n",
              "  [6000 rows x 16 columns],\n",
              "  12267    S\n",
              "  4148     D\n",
              "  1906     C\n",
              "  17688    V\n",
              "  4033     A\n",
              "          ..\n",
              "  16840    D\n",
              "  11863    D\n",
              "  17093    N\n",
              "  8366     I\n",
              "  17530    C\n",
              "  Name: target, Length: 13999, dtype: object,\n",
              "  11601    O\n",
              "  16890    M\n",
              "  14282    B\n",
              "  1635     N\n",
              "  7694     B\n",
              "          ..\n",
              "  9198     J\n",
              "  1170     I\n",
              "  5276     B\n",
              "  6536     G\n",
              "  19922    N\n",
              "  Name: target, Length: 6000, dtype: object),\n",
              " (        A   B   C  D  E  F  G   H   I   J   K  L   M   N  O  P\n",
              "  10785   2   3   4  5  1  9  8   4   2   6  13  8   3  10  0  8\n",
              "  17646   2   1   3  3  2  6  7   4   5   6   5  7   2   6  4  8\n",
              "  19383   3  10   4  7  3  7  8   3  11   9   6  8   0   8  7  8\n",
              "  4397    6  10   7  8  7  8  5  11   0   7   9  8  10   5  3  7\n",
              "  4741    2   1   2  2  1  8  7   7   4   7   6  8   2   8  3  8\n",
              "  ...    ..  ..  .. .. .. .. ..  ..  ..  ..  .. ..  ..  .. .. ..\n",
              "  1032   11  14  10  8  4  8  7   2  10   9   6  8   4   8  4  8\n",
              "  5520    2   1   2  2  1  7  8   4   0   7   8  8   6  10  0  8\n",
              "  3046    4   9   5  7  3  7  9   2   6  14   5  7   0   6  1  7\n",
              "  18638   5  10   6  7  3  7  6  15   1   7   8  8   3   8  0  8\n",
              "  2915    5   9   6  7  5  8  8   7   5   7   5  7   2   7  9  8\n",
              "  \n",
              "  [13999 rows x 16 columns],\n",
              "          A   B  C  D   E  F  G   H   I   J  K  L  M   N  O   P\n",
              "  2059    2   3  3  2   1  5  8   5   6  10  9  9  3   9  2   6\n",
              "  12767   6  11  8  8   7  7  7   7   8   7  6  5  6   8  4   7\n",
              "  8077    2   3  3  1   1  8  7   2   8  10  5  7  2   8  3   8\n",
              "  128     1   1  2  1   1  7  7  12   1   7  6  8  3   8  0   8\n",
              "  2084    4   6  6  6   6  7  7   5   4   7  7  8  7  10  6   8\n",
              "  ...    ..  .. .. ..  .. .. ..  ..  ..  .. .. .. ..  .. ..  ..\n",
              "  3939    7  11  9  9   7  9  7   8   6   6  6  7  6   7  9  15\n",
              "  942     2   3  2  1   1  8  7   6   4   9  6  8  2   8  3   8\n",
              "  12443   1   0  2  1   0  7  7   2  10   9  6  8  0   8  6   8\n",
              "  15437  10  15  9  8   6  9  5   4   7   9  5  7  6  10  6   8\n",
              "  5771    5  11  7  8  10  8  7   4   3   6  6  7  7   8  9   8\n",
              "  \n",
              "  [6000 rows x 16 columns],\n",
              "  10785    V\n",
              "  17646    R\n",
              "  19383    Z\n",
              "  4397     M\n",
              "  4741     O\n",
              "          ..\n",
              "  1032     X\n",
              "  5520     W\n",
              "  3046     J\n",
              "  18638    H\n",
              "  2915     S\n",
              "  Name: target, Length: 13999, dtype: object,\n",
              "  2059     U\n",
              "  12767    D\n",
              "  8077     X\n",
              "  128      H\n",
              "  2084     G\n",
              "          ..\n",
              "  3939     L\n",
              "  942      O\n",
              "  12443    Z\n",
              "  15437    D\n",
              "  5771     H\n",
              "  Name: target, Length: 6000, dtype: object),\n",
              " (       A   B  C  D  E   F  G  H  I   J   K   L  M   N   O  P\n",
              "  19183  4   6  6  4  4   7  6  1  6  10   6   9  3   8   3  8\n",
              "  1918   5  10  6  8  6   7  7  7  7   7   6   5  3   8   3  7\n",
              "  2046   3   6  4  4  3   7  8  3  8   6   6   8  2   8   6  8\n",
              "  1227   4   8  6  6  8   7  6  5  3   6   6   8  7   7   9  9\n",
              "  7870   6   9  8  8  9   8  7  5  5   7   6   8  8   8  10  3\n",
              "  ...   ..  .. .. .. ..  .. .. .. ..  ..  ..  .. ..  ..  .. ..\n",
              "  8527   6  10  8  7  5   9  6  3  6  10   4   8  4   7   4  8\n",
              "  4714   1   0  2  0  0   8  8  4  6   5   6   7  0   8   7  8\n",
              "  10196  4   6  4  4  2   4  9  3  6  10  11   6  2  11   2  5\n",
              "  8419   5   8  6  7  6   6  8  4  8   7   7   8  3  10   7  7\n",
              "  19145  5  10  7  8  4  10  2  6  5  15   5  13  0   7   0  7\n",
              "  \n",
              "  [13999 rows x 16 columns],\n",
              "          A   B   C  D   E   F   G   H   I   J   K   L   M   N  O   P\n",
              "  10985   1   0   2  1   0   7   9   3   2   7  12   8   2  10  0   8\n",
              "  18261   2   8   3  6   2   7   7   0   7  13   6   8   0   8  1   8\n",
              "  302     5  10   8  8   4   8   7   4  10   6   6   8   4   6  8   9\n",
              "  14784   6   8   7  6   4   4   8   5   7   9   8   9   3   9  2   5\n",
              "  7687    3   9   4  6   2   7   7   8   7   5   6  11   2   7  5  10\n",
              "  ...    ..  ..  .. ..  ..  ..  ..  ..  ..  ..  ..  ..  ..  .. ..  ..\n",
              "  6018   11  13  11  7   5  10  11   6   3   4  10   7  10  12  1   6\n",
              "  2950    3   6   3  4   1   7   5  13   5   7  13   8   3   9  0   8\n",
              "  13555   4   4   5  6   2   7   6   5   9   5   6  10   0   8  9   8\n",
              "  1800    2   7   3  5   1   9   6   3   7  12   4   9   0   7  2   6\n",
              "  14689   6   8   8  7  10   8   7   4   4   7   6   7  11   8  5   5\n",
              "  \n",
              "  [6000 rows x 16 columns],\n",
              "  19183    K\n",
              "  1918     D\n",
              "  2046     X\n",
              "  1227     H\n",
              "  7870     V\n",
              "          ..\n",
              "  8527     H\n",
              "  4714     S\n",
              "  10196    Y\n",
              "  8419     T\n",
              "  19145    J\n",
              "  Name: target, Length: 13999, dtype: object,\n",
              "  10985    V\n",
              "  18261    I\n",
              "  302      X\n",
              "  14784    U\n",
              "  7687     G\n",
              "          ..\n",
              "  6018     W\n",
              "  2950     U\n",
              "  13555    S\n",
              "  1800     J\n",
              "  14689    M\n",
              "  Name: target, Length: 6000, dtype: object),\n",
              " (       A   B  C  D  E   F   G  H  I   J   K   L  M   N  O   P\n",
              "  13473  2   7  4  4  1   8   4  3  1   7   1   8  2   6  2   8\n",
              "  19616  4  10  5  8  4   7  12  5  6   7  11   8  3  12  1   7\n",
              "  19784  6  11  6  6  4  10   5  4  6  11   4   8  3   8  8  11\n",
              "  16888  3   1  4  3  2   7  12  4  6   7  11   8  2  11  1   8\n",
              "  14411  4   7  5  5  5   5   7  3  5   8   6  11  6   9  4   9\n",
              "  ...   ..  .. .. .. ..  ..  .. .. ..  ..  ..  .. ..  .. ..  ..\n",
              "  13927  3   4  4  3  3   6   7  6  6   7   6   5  2   8  3   7\n",
              "  919    2   2  3  4  2   7   7  5  9   6   6   8  2   8  7   8\n",
              "  5699   4  10  4  8  4   3   7  6  3   6   5  11  3   8  2  11\n",
              "  10742  4   4  6  7  3   8   8  8  8   6   7   8  2   7  6  10\n",
              "  16921  4   9  4  6  3   5  11  8  4   7   4   9  3   7  6  11\n",
              "  \n",
              "  [13999 rows x 16 columns],\n",
              "         A   B   C  D   E   F   G  H  I   J   K   L   M   N  O  P\n",
              "  15033  3   3   3  4   1   1  14  5  3  12  10   5   0   8  2  6\n",
              "  833    1   3   3  1   1   9   8  3  4  10   3   5   4   8  1  8\n",
              "  7926   5  12   5  6   3   8   6  4  5  13   6   8   2   9  3  7\n",
              "  3279   2   8   4  6   2   6  11  3  7   8  11   7   2  11  1  7\n",
              "  10623  2   3   4  1   1   7   9  4  3  11   4   4   1   9  2  8\n",
              "  ...   ..  ..  .. ..  ..  ..  .. .. ..  ..  ..  ..  ..  .. .. ..\n",
              "  1066   4  10   4  8   1   0   1  6  6   0   0   6   0   8  0  8\n",
              "  19157  6  10   6  7   5   5   7  6  5   9   7  12   2   9  5  8\n",
              "  4777   7  11  10  8  13  11   5  3  3   9   4   8  11   8  4  8\n",
              "  15110  5   9   7  8   9   7   6  5  4   6   5   8   7  10  7  9\n",
              "  11717  3   4   5  3   3   6   7  2  8  11   7   9   2   8  4  8\n",
              "  \n",
              "  [6000 rows x 16 columns],\n",
              "  13473    A\n",
              "  19616    T\n",
              "  19784    Q\n",
              "  16888    T\n",
              "  14411    C\n",
              "          ..\n",
              "  13927    D\n",
              "  919      Z\n",
              "  5699     K\n",
              "  10742    G\n",
              "  16921    R\n",
              "  Name: target, Length: 13999, dtype: object,\n",
              "  15033    F\n",
              "  833      N\n",
              "  7926     S\n",
              "  3279     T\n",
              "  10623    P\n",
              "          ..\n",
              "  1066     L\n",
              "  19157    G\n",
              "  4777     M\n",
              "  15110    V\n",
              "  11717    E\n",
              "  Name: target, Length: 6000, dtype: object),\n",
              " (       A   B  C  D  E  F   G   H  I   J   K   L  M   N  O   P\n",
              "  4146   3   8  5  6  1  8   8   4  3   6  14   8  3  10  0   8\n",
              "  18477  3  10  5  8  5  7   7   5  8   7   7  10  3   8  6   9\n",
              "  1745   8  12  6  6  4  7   7   5  6  10   5   8  6   6  7  10\n",
              "  13341  2   1  4  2  1  7  11   1  7   7  11   8  1  11  2   8\n",
              "  16699  5  11  6  8  8  8   7   5  6   7   6   5  3   8  6   9\n",
              "  ...   ..  .. .. .. .. ..  ..  .. ..  ..  ..  .. ..  .. ..  ..\n",
              "  6995   5  10  6  7  6  8   5  11  0   6   9   8  9   6  2   6\n",
              "  10376  4   9  5  6  2  4  14   8  1  11   6   3  1  10  4   8\n",
              "  2181   1   3  2  2  1  9   6   4  4  10   3   5  2   8  2   8\n",
              "  18417  2   0  2  1  1  8   8   4  0   7   8   8  6   9  0   8\n",
              "  4547   5   9  8  7  4  5   8   2  8  11  11   9  3   9  4   6\n",
              "  \n",
              "  [13999 rows x 16 columns],\n",
              "          A   B   C  D  E  F   G   H   I   J   K   L   M   N  O   P\n",
              "  16046   4  10   5  8  3  7   5   8   9   8   4  13   1   9  5  10\n",
              "  14363   3   5   4  4  3  8   7   7   4   9   5   8   2   8  2   8\n",
              "  353    11  14  10  8  4  6   8   3   7   9   8  10   6   8  4   6\n",
              "  16610   6  10   6  8  5  8   5  12   4   7  13   8   3   8  0   7\n",
              "  11493   3   7   4  5  2  8   7   1   6  14   4   7   0   7  0   7\n",
              "  ...    ..  ..  .. .. .. ..  ..  ..  ..  ..  ..  ..  ..  .. ..  ..\n",
              "  15812   3   9   4  7  2  7   7   4  14   9   6   8   0   8  8   8\n",
              "  12987   3   5   4  3  3  9   7   6   6   7   6   8   3   8  3   7\n",
              "  15254   3   2   5  3  3  8  11   3   2   6   9   8   7  11  1   7\n",
              "  9725    5   8   8  6  4  5   8   2   8  11  10  10   3   8  3   6\n",
              "  7554    6   8   8  6  9  7   9   5   2   7   6   7  10  10  6   9\n",
              "  \n",
              "  [6000 rows x 16 columns],\n",
              "  4146     V\n",
              "  18477    E\n",
              "  1745     B\n",
              "  13341    Y\n",
              "  16699    B\n",
              "          ..\n",
              "  6995     M\n",
              "  10376    P\n",
              "  2181     D\n",
              "  18417    W\n",
              "  4547     X\n",
              "  Name: target, Length: 13999, dtype: object,\n",
              "  16046    G\n",
              "  14363    O\n",
              "  353      K\n",
              "  16610    U\n",
              "  11493    J\n",
              "          ..\n",
              "  15812    Z\n",
              "  12987    H\n",
              "  15254    W\n",
              "  9725     X\n",
              "  7554     O\n",
              "  Name: target, Length: 6000, dtype: object),\n",
              " (       A   B  C  D  E   F  G  H   I   J   K   L  M   N  O  P\n",
              "  16841  8  12  8  6  4   1  9  3   2  11  12   9  7  10  0  6\n",
              "  16646  3   6  4  4  2   5  9  6   7  12   9  11  2  10  3  7\n",
              "  14031  4  10  7  8  5  11  3  1   2   8   2   9  6   4  3  8\n",
              "  950    5   8  6  6  4   6  7  5   4   9   8   9  2   7  5  9\n",
              "  10834  2   7  4  4  2   7  4  3   2   6   1   8  3   6  2  7\n",
              "  ...   ..  .. .. .. ..  .. .. ..  ..  ..  ..  .. ..  .. .. ..\n",
              "  4532   3   2  4  3  2   5  4  5   7   2   2   5  1   7  1  6\n",
              "  4673   4   7  5  5  4   7  7  7   6   6   7   9  3  10  6  7\n",
              "  5014   0   3  0  2  0   7  7  1   7   7   6   8  0   8  2  8\n",
              "  9979   5   5  6  8  2   6  7  7  11   6   6  14  1   8  4  9\n",
              "  501    3   9  6  7  3  11  2  3   3  10   2   9  2   6  3  8\n",
              "  \n",
              "  [13999 rows x 16 columns],\n",
              "         A   B  C  D  E  F   G  H  I   J   K   L  M   N  O   P\n",
              "  16411  3   5  4  3  2  8   7  3  9   6   7   9  3   7  7   9\n",
              "  17341  1   0  1  0  0  3  12  4  2  11   8   5  0   8  2   7\n",
              "  12567  3   7  5  5  4  7   9  6  4   7   6   7  6   8  3   8\n",
              "  19078  4  10  7  8  6  6   8  2  6   7   6  10  4   6  7   7\n",
              "  13825  7  11  7  8  5  6   6  6  7  13   8  13  4   9  4   6\n",
              "  ...   ..  .. .. .. .. ..  .. .. ..  ..  ..  .. ..  .. ..  ..\n",
              "  9180   1   3  1  2  0  7   8  0  6  12   6   8  0   8  0   7\n",
              "  18059  4  11  5  8  5  7   7  8  6   5   7   9  2   7  6  10\n",
              "  18897  5   4  6  6  3  8   8  8  8   6   7   8  2   7  6  11\n",
              "  8440   2   5  4  4  2  6  10  1  7   8  11   9  1  11  2   7\n",
              "  4766   4  10  4  8  1  0   0  6  6   0   0   5  0   8  0   8\n",
              "  \n",
              "  [6000 rows x 16 columns],\n",
              "  16841    W\n",
              "  16646    C\n",
              "  14031    A\n",
              "  950      G\n",
              "  10834    A\n",
              "          ..\n",
              "  4532     L\n",
              "  4673     T\n",
              "  5014     I\n",
              "  9979     C\n",
              "  501      A\n",
              "  Name: target, Length: 13999, dtype: object,\n",
              "  16411    X\n",
              "  17341    F\n",
              "  12567    N\n",
              "  19078    X\n",
              "  13825    C\n",
              "          ..\n",
              "  9180     I\n",
              "  18059    G\n",
              "  18897    G\n",
              "  8440     Y\n",
              "  4766     L\n",
              "  Name: target, Length: 6000, dtype: object)]"
            ]
          },
          "execution_count": 38,
          "metadata": {},
          "output_type": "execute_result"
        }
      ],
      "source": [
        "samples"
      ]
    },
    {
      "cell_type": "markdown",
      "metadata": {
        "id": "xbpZpTYpUuTl"
      },
      "source": [
        "### Creation of a Fitness Function"
      ]
    },
    {
      "cell_type": "code",
      "execution_count": 39,
      "metadata": {
        "id": "UEJ2yRAeMOb2"
      },
      "outputs": [],
      "source": [
        "kernels = ['linear', 'poly', 'rbf', 'sigmoid']\n",
        "result = pd.DataFrame(columns=['Sample', 'Best Accuracy', 'Best Kernel', 'Best Nu', 'Best Epsilon'])"
      ]
    },
    {
      "cell_type": "code",
      "execution_count": 40,
      "metadata": {
        "id": "3XHWEfctVUGH"
      },
      "outputs": [],
      "source": [
        "def fitnessFunction(kernel, C, gamma):\n",
        "  svm = SVC(kernel=kernel, C=C, gamma=gamma, max_iter=1000)\n",
        "  svm.fit(X_train, y_train)\n",
        "  y_pred = svm.predict(X_test)\n",
        "  return accuracy_score(y_pred, y_test)"
      ]
    },
    {
      "cell_type": "markdown",
      "metadata": {
        "id": "ZWuJhdBfUzze"
      },
      "source": [
        "### Calling the Function for Every Sample"
      ]
    },
    {
      "cell_type": "code",
      "execution_count": 41,
      "metadata": {
        "colab": {
          "base_uri": "https://localhost:8080/"
        },
        "id": "fjgJ1WVBWsxx",
        "outputId": "62b3d808-6926-483d-b23a-2cab4b419b07"
      },
      "outputs": [
        {
          "name": "stdout",
          "output_type": "stream",
          "text": [
            "Best Accuracy =  0.92 Best Kernel =  poly Best Nu =  0.72 Best Epsilon =  0.05\n",
            "Best Accuracy =  0.91 Best Kernel =  poly Best Nu =  4.96 Best Epsilon =  0.25\n",
            "Best Accuracy =  0.92 Best Kernel =  poly Best Nu =  8.79 Best Epsilon =  4.19\n",
            "Best Accuracy =  0.91 Best Kernel =  poly Best Nu =  2.92 Best Epsilon =  3.36\n",
            "Best Accuracy =  0.92 Best Kernel =  poly Best Nu =  7.32 Best Epsilon =  4.57\n",
            "Best Accuracy =  0.91 Best Kernel =  poly Best Nu =  9.05 Best Epsilon =  0.09\n",
            "Best Accuracy =  0.92 Best Kernel =  poly Best Nu =  7.82 Best Epsilon =  9.43\n",
            "Best Accuracy =  0.93 Best Kernel =  poly Best Nu =  3.93 Best Epsilon =  0.45\n",
            "Best Accuracy =  0.93 Best Kernel =  poly Best Nu =  9.64 Best Epsilon =  3.49\n",
            "Best Accuracy =  0.93 Best Kernel =  poly Best Nu =  5.89 Best Epsilon =  0.16\n"
          ]
        }
      ],
      "source": [
        "for i in range(len(samples)):\n",
        "  best_accuracy = 0\n",
        "  best_C = 0\n",
        "  best_gamma = 0\n",
        "  for kernel in kernels:\n",
        "    X_train, X_test, y_train, y_test = samples[i]\n",
        "    C = np.random.uniform(0, 10)\n",
        "    gamma = np.random.uniform(0, 10)\n",
        "    score = fitnessFunction(kernel, C, gamma)\n",
        "    if score>best_accuracy:\n",
        "      best_accuracy = round(score, 2)\n",
        "      best_C = round(C, 2)\n",
        "      best_gamma = round(gamma, 2)\n",
        "      best_kernel = kernel\n",
        "  print('Best Accuracy = ', best_accuracy, 'Best Kernel = ', best_kernel, 'Best Nu = ', best_C, 'Best Epsilon = ', best_gamma)\n",
        "  result.loc[i] = [i+1, best_accuracy, best_kernel, best_C, best_gamma]"
      ]
    },
    {
      "cell_type": "markdown",
      "metadata": {
        "id": "JybxcLU4U6Pf"
      },
      "source": [
        "###Creation of a Result Table"
      ]
    },
    {
      "cell_type": "code",
      "execution_count": 42,
      "metadata": {
        "colab": {
          "base_uri": "https://localhost:8080/",
          "height": 363
        },
        "id": "MUpSkOBfcFbV",
        "outputId": "6ad84ace-adba-4d42-c73d-cd68b378c676"
      },
      "outputs": [
        {
          "data": {
            "text/html": [
              "<div>\n",
              "<style scoped>\n",
              "    .dataframe tbody tr th:only-of-type {\n",
              "        vertical-align: middle;\n",
              "    }\n",
              "\n",
              "    .dataframe tbody tr th {\n",
              "        vertical-align: top;\n",
              "    }\n",
              "\n",
              "    .dataframe thead th {\n",
              "        text-align: right;\n",
              "    }\n",
              "</style>\n",
              "<table border=\"1\" class=\"dataframe\">\n",
              "  <thead>\n",
              "    <tr style=\"text-align: right;\">\n",
              "      <th></th>\n",
              "      <th>Sample</th>\n",
              "      <th>Best Accuracy</th>\n",
              "      <th>Best Kernel</th>\n",
              "      <th>Best Nu</th>\n",
              "      <th>Best Epsilon</th>\n",
              "    </tr>\n",
              "  </thead>\n",
              "  <tbody>\n",
              "    <tr>\n",
              "      <th>0</th>\n",
              "      <td>1</td>\n",
              "      <td>0.92</td>\n",
              "      <td>poly</td>\n",
              "      <td>0.72</td>\n",
              "      <td>0.05</td>\n",
              "    </tr>\n",
              "    <tr>\n",
              "      <th>1</th>\n",
              "      <td>2</td>\n",
              "      <td>0.91</td>\n",
              "      <td>poly</td>\n",
              "      <td>4.96</td>\n",
              "      <td>0.25</td>\n",
              "    </tr>\n",
              "    <tr>\n",
              "      <th>2</th>\n",
              "      <td>3</td>\n",
              "      <td>0.92</td>\n",
              "      <td>poly</td>\n",
              "      <td>8.79</td>\n",
              "      <td>4.19</td>\n",
              "    </tr>\n",
              "    <tr>\n",
              "      <th>3</th>\n",
              "      <td>4</td>\n",
              "      <td>0.91</td>\n",
              "      <td>poly</td>\n",
              "      <td>2.92</td>\n",
              "      <td>3.36</td>\n",
              "    </tr>\n",
              "    <tr>\n",
              "      <th>4</th>\n",
              "      <td>5</td>\n",
              "      <td>0.92</td>\n",
              "      <td>poly</td>\n",
              "      <td>7.32</td>\n",
              "      <td>4.57</td>\n",
              "    </tr>\n",
              "    <tr>\n",
              "      <th>5</th>\n",
              "      <td>6</td>\n",
              "      <td>0.91</td>\n",
              "      <td>poly</td>\n",
              "      <td>9.05</td>\n",
              "      <td>0.09</td>\n",
              "    </tr>\n",
              "    <tr>\n",
              "      <th>6</th>\n",
              "      <td>7</td>\n",
              "      <td>0.92</td>\n",
              "      <td>poly</td>\n",
              "      <td>7.82</td>\n",
              "      <td>9.43</td>\n",
              "    </tr>\n",
              "    <tr>\n",
              "      <th>7</th>\n",
              "      <td>8</td>\n",
              "      <td>0.93</td>\n",
              "      <td>poly</td>\n",
              "      <td>3.93</td>\n",
              "      <td>0.45</td>\n",
              "    </tr>\n",
              "    <tr>\n",
              "      <th>8</th>\n",
              "      <td>9</td>\n",
              "      <td>0.93</td>\n",
              "      <td>poly</td>\n",
              "      <td>9.64</td>\n",
              "      <td>3.49</td>\n",
              "    </tr>\n",
              "    <tr>\n",
              "      <th>9</th>\n",
              "      <td>10</td>\n",
              "      <td>0.93</td>\n",
              "      <td>poly</td>\n",
              "      <td>5.89</td>\n",
              "      <td>0.16</td>\n",
              "    </tr>\n",
              "  </tbody>\n",
              "</table>\n",
              "</div>"
            ],
            "text/plain": [
              "   Sample  Best Accuracy Best Kernel  Best Nu  Best Epsilon\n",
              "0       1           0.92        poly     0.72          0.05\n",
              "1       2           0.91        poly     4.96          0.25\n",
              "2       3           0.92        poly     8.79          4.19\n",
              "3       4           0.91        poly     2.92          3.36\n",
              "4       5           0.92        poly     7.32          4.57\n",
              "5       6           0.91        poly     9.05          0.09\n",
              "6       7           0.92        poly     7.82          9.43\n",
              "7       8           0.93        poly     3.93          0.45\n",
              "8       9           0.93        poly     9.64          3.49\n",
              "9      10           0.93        poly     5.89          0.16"
            ]
          },
          "execution_count": 42,
          "metadata": {},
          "output_type": "execute_result"
        }
      ],
      "source": [
        "result"
      ]
    },
    {
      "cell_type": "markdown",
      "metadata": {
        "id": "roEQAPDjU9ux"
      },
      "source": [
        "### Plotting of the Convergence Graph/Linear Curve"
      ]
    },
    {
      "cell_type": "code",
      "execution_count": 43,
      "metadata": {
        "id": "HN0vIrNjMHRL"
      },
      "outputs": [],
      "source": [
        "X_train, X_test, y_train, y_test = samples[result['Best Accuracy'].idxmax()]"
      ]
    },
    {
      "cell_type": "code",
      "execution_count": 44,
      "metadata": {
        "id": "DjxAGZsPNCK3"
      },
      "outputs": [],
      "source": [
        "train_sizes, train_scores, test_scores = learning_curve(SVC(kernel=result['Best Kernel'].iloc[result['Best Accuracy'].idxmax()], \n",
        "                                                        C=result['Best Nu'].iloc[result['Best Accuracy'].idxmax()],\n",
        "                                                        gamma=result['Best Epsilon'].iloc[result['Best Accuracy'].idxmax()],\n",
        "                                                        max_iter = 1000), X_train, y_train, cv=10, scoring='accuracy', n_jobs=-1,\n",
        "                                                        train_sizes = np.linspace(0.01, 1.0, 50))"
      ]
    },
    {
      "cell_type": "code",
      "execution_count": 45,
      "metadata": {
        "colab": {
          "base_uri": "https://localhost:8080/"
        },
        "id": "AdFu3OLlP9KM",
        "outputId": "9221be76-7d74-4bda-dc2d-1330f3cfb8af"
      },
      "outputs": [
        {
          "data": {
            "text/plain": [
              "array([  125,   380,   635,   889,  1144,  1398,  1653,  1907,  2162,\n",
              "        2416,  2671,  2926,  3180,  3435,  3689,  3944,  4198,  4453,\n",
              "        4707,  4962,  5217,  5471,  5726,  5980,  6235,  6489,  6744,\n",
              "        6998,  7253,  7507,  7762,  8017,  8271,  8526,  8780,  9035,\n",
              "        9289,  9544,  9798, 10053, 10308, 10562, 10817, 11071, 11326,\n",
              "       11580, 11835, 12089, 12344, 12599])"
            ]
          },
          "execution_count": 45,
          "metadata": {},
          "output_type": "execute_result"
        }
      ],
      "source": [
        "train_sizes"
      ]
    },
    {
      "cell_type": "code",
      "execution_count": 46,
      "metadata": {
        "id": "jcTidkqyNRDn"
      },
      "outputs": [],
      "source": [
        "train_mean = np.mean(train_scores, axis=1)\n",
        "test_mean = np.mean(test_scores, axis=1)"
      ]
    },
    {
      "cell_type": "code",
      "execution_count": 47,
      "metadata": {
        "colab": {
          "base_uri": "https://localhost:8080/",
          "height": 564
        },
        "id": "_2jLVvf4PEV4",
        "outputId": "9064982b-1e18-41fd-ca7c-dae444ae654d"
      },
      "outputs": [
        {
          "data": {
            "image/png": "[encoded data removed]",
            "text/plain": [
              "<Figure size 1000x600 with 1 Axes>"
            ]
          },
          "metadata": {},
          "output_type": "display_data"
        }
      ],
      "source": [
        "plt.figure(figsize=(10, 6))\n",
        "plt.plot(train_sizes, train_mean, label='Training Score')\n",
        "plt.plot(train_sizes, test_mean, label='Cross-Validation Score')\n",
        "plt.xlabel('Iterations')\n",
        "plt.ylabel('Accuracy')\n",
        "plt.title('Convergence Graph')\n",
        "plt.legend(loc=\"best\")\n",
        "plt.show()"
      ]
    }
  ],
  "metadata": {
    "colab": {
      "authorship_tag": "ABX9TyO2jHQCKdlH758GX0bpdzCP",
      "include_colab_link": true,
      "provenance": []
    },
    "kernelspec": {
      "display_name": "Python 3",
      "name": "python3"
    },
    "language_info": {
      "codemirror_mode": {
        "name": "ipython",
        "version": 3
      },
      "file_extension": ".py",
      "mimetype": "text/x-python",
      "name": "python",
      "nbconvert_exporter": "python",
      "pygments_lexer": "ipython3",
      "version": "3.10.5"
    }
  },
  "nbformat": 4,
  "nbformat_minor": 0
}
